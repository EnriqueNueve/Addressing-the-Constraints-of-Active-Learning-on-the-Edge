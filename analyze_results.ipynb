{
 "cells": [
  {
   "cell_type": "markdown",
   "metadata": {},
   "source": [
    "# Analyze Results\n"
   ]
  },
  {
   "cell_type": "code",
   "execution_count": 1,
   "metadata": {
    "execution": {
     "iopub.execute_input": "2020-12-02T15:52:53.670Z",
     "iopub.status.busy": "2020-12-02T15:52:53.662Z",
     "iopub.status.idle": "2020-12-02T15:52:54.867Z",
     "shell.execute_reply": "2020-12-02T15:52:54.887Z"
    }
   },
   "outputs": [
    {
     "name": "stderr",
     "output_type": "stream",
     "text": [
      "/usr/local/lib/python3.7/site-packages/statsmodels/tools/_testing.py:19: FutureWarning: pandas.util.testing is deprecated. Use the functions in the public API at pandas.testing instead.\n",
      "  import pandas.util.testing as tm\n"
     ]
    }
   ],
   "source": [
    "import pandas as pd \n",
    "import numpy as np\n",
    "import os \n",
    "import glob \n",
    "\n",
    "import seaborn as sns\n",
    "import matplotlib.pyplot as plt \n",
    "import matplotlib.style as style\n",
    "%matplotlib inline"
   ]
  },
  {
   "cell_type": "markdown",
   "metadata": {},
   "source": [
    "## Run three times:\n",
    "* DATASET = \"results/mnist\"\n",
    "* DATASET = \"results/bees\"\n",
    "* DATASET = \"results/monkey\""
   ]
  },
  {
   "cell_type": "code",
   "execution_count": 2,
   "metadata": {
    "nteract": {
     "transient": {
      "deleting": false
     }
    }
   },
   "outputs": [],
   "source": [
    "DATASET = \"results/bees\""
   ]
  },
  {
   "cell_type": "markdown",
   "metadata": {},
   "source": [
    "### Passive"
   ]
  },
  {
   "cell_type": "code",
   "execution_count": 3,
   "metadata": {
    "execution": {
     "iopub.execute_input": "2020-12-02T15:21:24.504Z",
     "iopub.status.busy": "2020-12-02T15:21:24.494Z",
     "iopub.status.idle": "2020-12-02T15:21:24.525Z",
     "shell.execute_reply": "2020-12-02T15:21:24.556Z"
    },
    "jupyter": {
     "outputs_hidden": false,
     "source_hidden": false
    },
    "nteract": {
     "transient": {
      "deleting": false
     }
    }
   },
   "outputs": [
    {
     "name": "stdout",
     "output_type": "stream",
     "text": [
      "['results/bees/passive/1_log.csv', 'results/bees/passive/0_log.csv']\n"
     ]
    }
   ],
   "source": [
    "passive_paths = glob.glob(DATASET+\"/passive/*.csv\")\n",
    "print(passive_paths)\n",
    "\n",
    "passive_df = [pd.read_csv(path) for path in passive_paths]\n",
    "passive_acc = [df['val_sparse_categorical_accuracy'].values for df in passive_df]\n",
    "passive_acc = passive_acc[:10]\n",
    "passive_acc_mu = np.mean(passive_acc, axis=0)\n",
    "passive_acc_std = np.std(passive_acc, axis=0)"
   ]
  },
  {
   "cell_type": "markdown",
   "metadata": {},
   "source": [
    "### Margin"
   ]
  },
  {
   "cell_type": "code",
   "execution_count": 4,
   "metadata": {
    "execution": {
     "iopub.execute_input": "2020-12-02T15:21:27.245Z",
     "iopub.status.busy": "2020-12-02T15:21:27.235Z",
     "iopub.status.idle": "2020-12-02T15:21:27.266Z",
     "shell.execute_reply": "2020-12-02T15:21:27.287Z"
    }
   },
   "outputs": [
    {
     "name": "stdout",
     "output_type": "stream",
     "text": [
      "['results/bees/margin/1_log.csv', 'results/bees/margin/0_log.csv']\n"
     ]
    }
   ],
   "source": [
    "margin_paths = glob.glob(DATASET+\"/margin/*.csv\")\n",
    "print(margin_paths)\n",
    "\n",
    "margin_df = [pd.read_csv(path) for path in margin_paths]\n",
    "margin_acc = [df['val_sparse_categorical_accuracy'].values for df in margin_df]\n",
    "margin_acc = margin_acc[:10]\n",
    "margin_acc_mu = np.mean(margin_acc, axis=0)\n",
    "margin_acc_std = np.std(margin_acc, axis=0)"
   ]
  },
  {
   "cell_type": "markdown",
   "metadata": {},
   "source": [
    "### CM 1"
   ]
  },
  {
   "cell_type": "code",
   "execution_count": 5,
   "metadata": {
    "execution": {
     "iopub.execute_input": "2020-12-02T15:21:28.654Z",
     "iopub.status.busy": "2020-12-02T15:21:28.646Z",
     "iopub.status.idle": "2020-12-02T15:21:28.674Z",
     "shell.execute_reply": "2020-12-02T15:21:28.701Z"
    }
   },
   "outputs": [
    {
     "name": "stdout",
     "output_type": "stream",
     "text": [
      "['results/bees/cm/1/1_log.csv', 'results/bees/cm/1/0_log.csv']\n"
     ]
    }
   ],
   "source": [
    "cm_margin_paths = glob.glob(DATASET+\"/cm/1/*.csv\")\n",
    "print(cm_margin_paths)\n",
    "\n",
    "cm_margin_df = [pd.read_csv(path) for path in cm_margin_paths]\n",
    "cm_margin_acc = [df['val_sparse_categorical_accuracy'].values for df in cm_margin_df]\n",
    "cm_margin_acc = cm_margin_acc[:10]\n",
    "cm_1_acc_mu = np.mean(cm_margin_acc, axis=0)\n",
    "cm_1_acc_std = np.std(cm_margin_acc, axis=0)"
   ]
  },
  {
   "cell_type": "markdown",
   "metadata": {},
   "source": [
    "### CM 2"
   ]
  },
  {
   "cell_type": "code",
   "execution_count": 6,
   "metadata": {},
   "outputs": [
    {
     "name": "stdout",
     "output_type": "stream",
     "text": [
      "['results/bees/cm/2/1_log.csv', 'results/bees/cm/2/0_log.csv']\n"
     ]
    }
   ],
   "source": [
    "cm_margin_paths = glob.glob(DATASET+\"/cm/2/*.csv\")\n",
    "print(cm_margin_paths)\n",
    "\n",
    "cm_margin_df = [pd.read_csv(path) for path in cm_margin_paths]\n",
    "cm_margin_acc = [df['val_sparse_categorical_accuracy'].values for df in cm_margin_df]\n",
    "cm_margin_acc = cm_margin_acc[:10]\n",
    "cm_2_acc_mu = np.mean(cm_margin_acc, axis=0)\n",
    "cm_2_acc_std = np.std(cm_margin_acc, axis=0)"
   ]
  },
  {
   "cell_type": "markdown",
   "metadata": {},
   "source": [
    "### CM 3"
   ]
  },
  {
   "cell_type": "code",
   "execution_count": 7,
   "metadata": {},
   "outputs": [
    {
     "name": "stdout",
     "output_type": "stream",
     "text": [
      "['results/bees/cm/3/1_log.csv', 'results/bees/cm/3/0_log.csv']\n"
     ]
    }
   ],
   "source": [
    "cm_margin_paths = glob.glob(DATASET+\"/cm/3/*.csv\")\n",
    "print(cm_margin_paths)\n",
    "\n",
    "cm_margin_df = [pd.read_csv(path) for path in cm_margin_paths]\n",
    "cm_margin_acc = [df['val_sparse_categorical_accuracy'].values for df in cm_margin_df]\n",
    "cm_margin_acc = cm_margin_acc[:10]\n",
    "cm_3_acc_mu = np.mean(cm_margin_acc, axis=0)\n",
    "cm_3_acc_std = np.std(cm_margin_acc, axis=0)"
   ]
  },
  {
   "cell_type": "markdown",
   "metadata": {},
   "source": [
    "### CM 4"
   ]
  },
  {
   "cell_type": "code",
   "execution_count": 8,
   "metadata": {},
   "outputs": [
    {
     "name": "stdout",
     "output_type": "stream",
     "text": [
      "['results/bees/cm/4/1_log.csv', 'results/bees/cm/4/0_log.csv']\n"
     ]
    }
   ],
   "source": [
    "cm_margin_paths = glob.glob(DATASET+\"/cm/4/*.csv\")\n",
    "print(cm_margin_paths)\n",
    "\n",
    "cm_margin_df = [pd.read_csv(path) for path in cm_margin_paths]\n",
    "cm_margin_acc = [df['val_sparse_categorical_accuracy'].values for df in cm_margin_df]\n",
    "cm_margin_acc = cm_margin_acc[:10]\n",
    "cm_4_acc_mu = np.mean(cm_margin_acc, axis=0)\n",
    "cm_4_acc_std = np.std(cm_margin_acc, axis=0)"
   ]
  },
  {
   "cell_type": "markdown",
   "metadata": {},
   "source": [
    "### CM 5"
   ]
  },
  {
   "cell_type": "code",
   "execution_count": 9,
   "metadata": {},
   "outputs": [
    {
     "name": "stdout",
     "output_type": "stream",
     "text": [
      "['results/bees/cm/5/1_log.csv', 'results/bees/cm/5/0_log.csv']\n"
     ]
    }
   ],
   "source": [
    "cm_margin_paths = glob.glob(DATASET+\"/cm/5/*.csv\")\n",
    "print(cm_margin_paths)\n",
    "\n",
    "cm_margin_df = [pd.read_csv(path) for path in cm_margin_paths]\n",
    "cm_margin_acc = [df['val_sparse_categorical_accuracy'].values for df in cm_margin_df]\n",
    "cm_margin_acc = cm_margin_acc[:10]\n",
    "cm_5_acc_mu = np.mean(cm_margin_acc, axis=0)\n",
    "cm_5_acc_std = np.std(cm_margin_acc, axis=0)"
   ]
  },
  {
   "cell_type": "markdown",
   "metadata": {},
   "source": [
    "### CM 6"
   ]
  },
  {
   "cell_type": "code",
   "execution_count": 10,
   "metadata": {},
   "outputs": [
    {
     "name": "stdout",
     "output_type": "stream",
     "text": [
      "['results/bees/cm/6/1_log.csv', 'results/bees/cm/6/0_log.csv']\n"
     ]
    }
   ],
   "source": [
    "cm_margin_paths = glob.glob(DATASET+\"/cm/6/*.csv\")\n",
    "print(cm_margin_paths)\n",
    "\n",
    "cm_margin_df = [pd.read_csv(path) for path in cm_margin_paths]\n",
    "cm_margin_acc = [df['val_sparse_categorical_accuracy'].values for df in cm_margin_df]\n",
    "cm_margin_acc = cm_margin_acc[:10]\n",
    "cm_6_acc_mu = np.mean(cm_margin_acc, axis=0)\n",
    "cm_6_acc_std = np.std(cm_margin_acc, axis=0)"
   ]
  },
  {
   "cell_type": "markdown",
   "metadata": {},
   "source": [
    "### CM 7"
   ]
  },
  {
   "cell_type": "code",
   "execution_count": 11,
   "metadata": {},
   "outputs": [
    {
     "name": "stdout",
     "output_type": "stream",
     "text": [
      "['results/bees/cm/7/1_log.csv', 'results/bees/cm/7/0_log.csv']\n"
     ]
    }
   ],
   "source": [
    "cm_margin_paths = glob.glob(DATASET+\"/cm/7/*.csv\")\n",
    "print(cm_margin_paths)\n",
    "\n",
    "cm_margin_df = [pd.read_csv(path) for path in cm_margin_paths]\n",
    "cm_margin_acc = [df['val_sparse_categorical_accuracy'].values for df in cm_margin_df]\n",
    "cm_margin_acc = cm_margin_acc[:10]\n",
    "cm_7_acc_mu = np.mean(cm_margin_acc, axis=0)\n",
    "cm_7_acc_std = np.std(cm_margin_acc, axis=0)"
   ]
  },
  {
   "cell_type": "markdown",
   "metadata": {},
   "source": [
    "### CM 8"
   ]
  },
  {
   "cell_type": "code",
   "execution_count": 12,
   "metadata": {},
   "outputs": [
    {
     "name": "stdout",
     "output_type": "stream",
     "text": [
      "['results/bees/cm/8/1_log.csv', 'results/bees/cm/8/0_log.csv']\n"
     ]
    }
   ],
   "source": [
    "cm_margin_paths = glob.glob(DATASET+\"/cm/8/*.csv\")\n",
    "print(cm_margin_paths)\n",
    "\n",
    "cm_margin_df = [pd.read_csv(path) for path in cm_margin_paths]\n",
    "cm_margin_acc = [df['val_sparse_categorical_accuracy'].values for df in cm_margin_df]\n",
    "cm_margin_acc = cm_margin_acc[:10]\n",
    "cm_8_acc_mu = np.mean(cm_margin_acc, axis=0)\n",
    "cm_8_acc_std = np.std(cm_margin_acc, axis=0)"
   ]
  },
  {
   "cell_type": "markdown",
   "metadata": {},
   "source": [
    "## Plot"
   ]
  },
  {
   "cell_type": "code",
   "execution_count": 13,
   "metadata": {
    "execution": {
     "iopub.execute_input": "2020-12-02T15:21:32.388Z",
     "iopub.status.busy": "2020-12-02T15:21:32.379Z",
     "iopub.status.idle": "2020-12-02T15:21:32.846Z",
     "shell.execute_reply": "2020-12-02T15:21:32.871Z"
    }
   },
   "outputs": [
    {
     "data": {
      "image/png": "[encoded data removed]",
      "text/plain": [
       "<Figure size 720x432 with 1 Axes>"
      ]
     },
     "metadata": {},
     "output_type": "display_data"
    },
    {
     "data": {
      "text/plain": [
       "<Figure size 432x288 with 0 Axes>"
      ]
     },
     "metadata": {},
     "output_type": "display_data"
    }
   ],
   "source": [
    "sns.set()\n",
    "\n",
    "fig= plt.figure(figsize=(10,6))\n",
    "\n",
    "markers1, caps1, bars1 = plt.errorbar(range(1,passive_acc_mu.shape[0]+1), passive_acc_mu,\\\n",
    "             yerr=passive_acc_std,color='red',markersize=12,marker=\".\",\\\n",
    "             label='passive')\n",
    "[bar.set_alpha(0.5) for bar in bars1]\n",
    "\n",
    "markers2, caps2, bars2 = plt.errorbar(range(1,margin_acc_mu.shape[0]+1),margin_acc_mu,\\\n",
    "             yerr=margin_acc_std,color='blue',markersize=12,marker=\".\",\\\n",
    "             label='margin')\n",
    "[bar.set_alpha(0.5) for bar in bars2]\n",
    "\n",
    "markers3, caps3, bars3 = plt.errorbar(range(1,cm_1_acc_mu.shape[0]+1),cm_1_acc_mu,\\\n",
    "             yerr=cm_1_acc_std,color='orange',markersize=12,marker=\".\",\\\n",
    "             label='A')\n",
    "[bar.set_alpha(0.5) for bar in bars3]\n",
    "\n",
    "markers4, caps4, bars4 = plt.errorbar(range(1,cm_2_acc_mu.shape[0]+1),cm_2_acc_mu,\\\n",
    "             yerr=cm_2_acc_std,color='green',markersize=12,marker=\".\",\\\n",
    "             label='B')\n",
    "[bar.set_alpha(0.5) for bar in bars4]\n",
    "\n",
    "markers5, caps5, bars5 = plt.errorbar(range(1,cm_3_acc_mu.shape[0]+1),cm_3_acc_mu,\\\n",
    "             yerr=cm_3_acc_std,color='orange',markersize=12,marker=\".\",\\\n",
    "             label='C')\n",
    "[bar.set_alpha(0.5) for bar in bars5]\n",
    "\n",
    "markers6, caps6, bars6 = plt.errorbar(range(1,cm_4_acc_mu.shape[0]+1),cm_4_acc_mu,\\\n",
    "             yerr=cm_4_acc_std,color='yellow',markersize=12,marker=\".\",\\\n",
    "             label='D')\n",
    "[bar.set_alpha(0.5) for bar in bars6]\n",
    "\n",
    "markers7, caps7, bars7 = plt.errorbar(range(1,cm_5_acc_mu.shape[0]+1),cm_5_acc_mu,\\\n",
    "             yerr=cm_5_acc_std,color='pink',markersize=12,marker=\".\",\\\n",
    "             label='E')\n",
    "[bar.set_alpha(0.5) for bar in bars7]\n",
    "\n",
    "markers8, caps8, bars8 = plt.errorbar(range(1,cm_6_acc_mu.shape[0]+1),cm_6_acc_mu,\\\n",
    "             yerr=cm_6_acc_std,color='purple',markersize=12,marker=\".\",\\\n",
    "             label='F')\n",
    "[bar.set_alpha(0.5) for bar in bars8]\n",
    "\n",
    "markers9, caps9, bars9 = plt.errorbar(range(1,cm_7_acc_mu.shape[0]+1),cm_7_acc_mu,\\\n",
    "             yerr=cm_7_acc_std,color='black',markersize=12,marker=\".\",\\\n",
    "             label='G')\n",
    "[bar.set_alpha(0.5) for bar in bars9]\n",
    "\n",
    "markers10, caps10, bars10 = plt.errorbar(range(1,cm_8_acc_mu.shape[0]+1),cm_8_acc_mu,\\\n",
    "             yerr=cm_8_acc_std,color='brown',markersize=12,marker=\".\",\\\n",
    "             label='H')\n",
    "[bar.set_alpha(0.5) for bar in bars10]\n",
    "\n",
    "plt.legend(prop={'size': 22}, bbox_to_anchor=(1.05, 1), loc='upper left')\n",
    "plt.title(\"MNIST\", fontsize=26)\n",
    "plt.xlabel('Rounds', fontsize=24)\n",
    "plt.xticks(fontsize=18)\n",
    "plt.ylabel('Accuracy', fontsize=24)\n",
    "plt.yticks(fontsize=18)\n",
    "\n",
    "plt.tight_layout()\n",
    "plt.show()\n",
    "plt.draw()\n",
    "fig.savefig(DATASET+\".png\",dpi=100)"
   ]
  },
  {
   "cell_type": "code",
   "execution_count": 14,
   "metadata": {},
   "outputs": [
    {
     "name": "stdout",
     "output_type": "stream",
     "text": [
      "0.90935018658638 0.00989583134651184\n"
     ]
    }
   ],
   "source": [
    "print(passive_acc_mu[-1], passive_acc_std[-1])"
   ]
  },
  {
   "cell_type": "code",
   "execution_count": 15,
   "metadata": {},
   "outputs": [
    {
     "name": "stdout",
     "output_type": "stream",
     "text": [
      "0.9161210656166076 0.0\n"
     ]
    }
   ],
   "source": [
    "print(margin_acc_mu[-1], margin_acc_std[-1])"
   ]
  },
  {
   "cell_type": "code",
   "execution_count": 16,
   "metadata": {},
   "outputs": [
    {
     "name": "stdout",
     "output_type": "stream",
     "text": [
      "0.9114335477352142 0.001562505960464533\n"
     ]
    }
   ],
   "source": [
    "print(cm_1_acc_mu[-1],cm_1_acc_std[-1])"
   ]
  },
  {
   "cell_type": "code",
   "execution_count": 17,
   "metadata": {},
   "outputs": [
    {
     "name": "stdout",
     "output_type": "stream",
     "text": [
      "0.9083085358142853 0.0015625059604644775\n"
     ]
    }
   ],
   "source": [
    "print(cm_2_acc_mu[-1],cm_2_acc_std[-1])"
   ]
  },
  {
   "cell_type": "code",
   "execution_count": 18,
   "metadata": {},
   "outputs": [
    {
     "name": "stdout",
     "output_type": "stream",
     "text": [
      "0.9338293671607971 0.0010416507720947266\n"
     ]
    }
   ],
   "source": [
    "print(cm_3_acc_mu[-1],cm_3_acc_std[-1])"
   ]
  },
  {
   "cell_type": "code",
   "execution_count": 19,
   "metadata": {},
   "outputs": [
    {
     "name": "stdout",
     "output_type": "stream",
     "text": [
      "0.9244543612003326 0.003124982118606623\n"
     ]
    }
   ],
   "source": [
    "print(cm_4_acc_mu[-1],cm_4_acc_std[-1])"
   ]
  },
  {
   "cell_type": "code",
   "execution_count": 20,
   "metadata": {},
   "outputs": [
    {
     "name": "stdout",
     "output_type": "stream",
     "text": [
      "0.9119543731212616 0.0031249821186065674\n"
     ]
    }
   ],
   "source": [
    "print(cm_5_acc_mu[-1],cm_5_acc_std[-1])"
   ]
  },
  {
   "cell_type": "code",
   "execution_count": 21,
   "metadata": {},
   "outputs": [
    {
     "name": "stdout",
     "output_type": "stream",
     "text": [
      "0.9083085358142852 0.002604156732559204\n"
     ]
    }
   ],
   "source": [
    "print(cm_6_acc_mu[-1],cm_6_acc_std[-1])"
   ]
  },
  {
   "cell_type": "code",
   "execution_count": 22,
   "metadata": {},
   "outputs": [
    {
     "name": "stdout",
     "output_type": "stream",
     "text": [
      "0.8822668492794037 0.029687494039535522\n"
     ]
    }
   ],
   "source": [
    "print(cm_7_acc_mu[-1],cm_7_acc_std[-1])"
   ]
  },
  {
   "cell_type": "code",
   "execution_count": 23,
   "metadata": {},
   "outputs": [
    {
     "name": "stdout",
     "output_type": "stream",
     "text": [
      "0.9057043492794037 0.0062499940395355225\n"
     ]
    }
   ],
   "source": [
    "print(cm_8_acc_mu[-1],cm_8_acc_std[-1])"
   ]
  },
  {
   "cell_type": "code",
   "execution_count": null,
   "metadata": {},
   "outputs": [],
   "source": []
  },
  {
   "cell_type": "code",
   "execution_count": null,
   "metadata": {},
   "outputs": [],
   "source": []
  },
  {
   "cell_type": "code",
   "execution_count": null,
   "metadata": {},
   "outputs": [],
   "source": []
  },
  {
   "cell_type": "code",
   "execution_count": null,
   "metadata": {},
   "outputs": [],
   "source": []
  },
  {
   "cell_type": "code",
   "execution_count": null,
   "metadata": {},
   "outputs": [],
   "source": []
  }
 ],
 "metadata": {
  "kernelspec": {
   "display_name": "Python 3",
   "language": "python",
   "name": "python3"
  },
  "language_info": {
   "codemirror_mode": {
    "name": "ipython",
    "version": 3
   },
   "file_extension": ".py",
   "mimetype": "text/x-python",
   "name": "python",
   "nbconvert_exporter": "python",
   "pygments_lexer": "ipython3",
   "version": "3.7.4"
  },
  "nteract": {
   "version": "0.27.0"
  }
 },
 "nbformat": 4,
 "nbformat_minor": 2
}
